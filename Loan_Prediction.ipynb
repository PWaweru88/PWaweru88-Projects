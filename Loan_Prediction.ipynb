{
  "nbformat": 4,
  "nbformat_minor": 0,
  "metadata": {
    "kernelspec": {
      "display_name": "Python 3",
      "language": "python",
      "name": "python3"
    },
    "language_info": {
      "codemirror_mode": {
        "name": "ipython",
        "version": 3
      },
      "file_extension": ".py",
      "mimetype": "text/x-python",
      "name": "python",
      "nbconvert_exporter": "python",
      "pygments_lexer": "ipython3",
      "version": "3.7.2"
    },
    "colab": {
      "name": "Loan Prediction.ipynb",
      "provenance": [],
      "collapsed_sections": [],
      "include_colab_link": true
    }
  },
  "cells": [
    {
      "cell_type": "markdown",
      "metadata": {
        "id": "view-in-github",
        "colab_type": "text"
      },
      "source": [
        "<a href=\"https://colab.research.google.com/github/PWaweru88/PWaweru88-Projects/blob/master/Loan_Prediction.ipynb\" target=\"_parent\"><img src=\"https://colab.research.google.com/assets/colab-badge.svg\" alt=\"Open In Colab\"/></a>"
      ]
    },
    {
      "cell_type": "code",
      "metadata": {
        "id": "GC3_fTEguQc9"
      },
      "source": [
        "import pandas as pd\n",
        "import numpy as np\n",
        "import seaborn as sns\n",
        "import matplotlib.pyplot as plt\n",
        "%matplotlib inline"
      ],
      "execution_count": null,
      "outputs": []
    },
    {
      "cell_type": "code",
      "metadata": {
        "id": "PDsEEWwTuQdB",
        "outputId": "6379e45d-c1d3-4e6a-86bd-04db8f71cf91"
      },
      "source": [
        "df = pd.read_csv('dummy_bank_data.csv')\n",
        "df.head()"
      ],
      "execution_count": null,
      "outputs": [
        {
          "output_type": "execute_result",
          "data": {
            "text/html": [
              "<div>\n",
              "<style scoped>\n",
              "    .dataframe tbody tr th:only-of-type {\n",
              "        vertical-align: middle;\n",
              "    }\n",
              "\n",
              "    .dataframe tbody tr th {\n",
              "        vertical-align: top;\n",
              "    }\n",
              "\n",
              "    .dataframe thead th {\n",
              "        text-align: right;\n",
              "    }\n",
              "</style>\n",
              "<table border=\"1\" class=\"dataframe\">\n",
              "  <thead>\n",
              "    <tr style=\"text-align: right;\">\n",
              "      <th></th>\n",
              "      <th>Loan_ID</th>\n",
              "      <th>Gender</th>\n",
              "      <th>Married</th>\n",
              "      <th>Dependents</th>\n",
              "      <th>Education</th>\n",
              "      <th>Self_Employed</th>\n",
              "      <th>ApplicantIncome</th>\n",
              "      <th>CoapplicantIncome</th>\n",
              "      <th>LoanAmount</th>\n",
              "      <th>Loan_Amount_Term</th>\n",
              "      <th>Credit_History</th>\n",
              "      <th>Property_Area</th>\n",
              "    </tr>\n",
              "  </thead>\n",
              "  <tbody>\n",
              "    <tr>\n",
              "      <th>0</th>\n",
              "      <td>LP001015</td>\n",
              "      <td>Male</td>\n",
              "      <td>Yes</td>\n",
              "      <td>0</td>\n",
              "      <td>Graduate</td>\n",
              "      <td>No</td>\n",
              "      <td>5720</td>\n",
              "      <td>0</td>\n",
              "      <td>110.0</td>\n",
              "      <td>360.0</td>\n",
              "      <td>1.0</td>\n",
              "      <td>Urban</td>\n",
              "    </tr>\n",
              "    <tr>\n",
              "      <th>1</th>\n",
              "      <td>LP001022</td>\n",
              "      <td>Male</td>\n",
              "      <td>Yes</td>\n",
              "      <td>1</td>\n",
              "      <td>Graduate</td>\n",
              "      <td>No</td>\n",
              "      <td>3076</td>\n",
              "      <td>1500</td>\n",
              "      <td>126.0</td>\n",
              "      <td>360.0</td>\n",
              "      <td>1.0</td>\n",
              "      <td>Urban</td>\n",
              "    </tr>\n",
              "    <tr>\n",
              "      <th>2</th>\n",
              "      <td>LP001031</td>\n",
              "      <td>Male</td>\n",
              "      <td>Yes</td>\n",
              "      <td>2</td>\n",
              "      <td>Graduate</td>\n",
              "      <td>No</td>\n",
              "      <td>5000</td>\n",
              "      <td>1800</td>\n",
              "      <td>208.0</td>\n",
              "      <td>360.0</td>\n",
              "      <td>1.0</td>\n",
              "      <td>Urban</td>\n",
              "    </tr>\n",
              "    <tr>\n",
              "      <th>3</th>\n",
              "      <td>LP001035</td>\n",
              "      <td>Male</td>\n",
              "      <td>Yes</td>\n",
              "      <td>2</td>\n",
              "      <td>Graduate</td>\n",
              "      <td>No</td>\n",
              "      <td>2340</td>\n",
              "      <td>2546</td>\n",
              "      <td>100.0</td>\n",
              "      <td>360.0</td>\n",
              "      <td>NaN</td>\n",
              "      <td>Urban</td>\n",
              "    </tr>\n",
              "    <tr>\n",
              "      <th>4</th>\n",
              "      <td>LP001051</td>\n",
              "      <td>Male</td>\n",
              "      <td>No</td>\n",
              "      <td>0</td>\n",
              "      <td>Not Graduate</td>\n",
              "      <td>No</td>\n",
              "      <td>3276</td>\n",
              "      <td>0</td>\n",
              "      <td>78.0</td>\n",
              "      <td>360.0</td>\n",
              "      <td>1.0</td>\n",
              "      <td>Urban</td>\n",
              "    </tr>\n",
              "  </tbody>\n",
              "</table>\n",
              "</div>"
            ],
            "text/plain": [
              "    Loan_ID Gender Married Dependents     Education Self_Employed  \\\n",
              "0  LP001015   Male     Yes          0      Graduate            No   \n",
              "1  LP001022   Male     Yes          1      Graduate            No   \n",
              "2  LP001031   Male     Yes          2      Graduate            No   \n",
              "3  LP001035   Male     Yes          2      Graduate            No   \n",
              "4  LP001051   Male      No          0  Not Graduate            No   \n",
              "\n",
              "   ApplicantIncome  CoapplicantIncome  LoanAmount  Loan_Amount_Term  \\\n",
              "0             5720                  0       110.0             360.0   \n",
              "1             3076               1500       126.0             360.0   \n",
              "2             5000               1800       208.0             360.0   \n",
              "3             2340               2546       100.0             360.0   \n",
              "4             3276                  0        78.0             360.0   \n",
              "\n",
              "   Credit_History Property_Area  \n",
              "0             1.0         Urban  \n",
              "1             1.0         Urban  \n",
              "2             1.0         Urban  \n",
              "3             NaN         Urban  \n",
              "4             1.0         Urban  "
            ]
          },
          "metadata": {
            "tags": []
          },
          "execution_count": 3
        }
      ]
    },
    {
      "cell_type": "code",
      "metadata": {
        "id": "8o4c1wptuQdF",
        "outputId": "998e609c-603f-4566-9f43-c82a507bbd92"
      },
      "source": [
        "df.info()"
      ],
      "execution_count": null,
      "outputs": [
        {
          "output_type": "stream",
          "text": [
            "<class 'pandas.core.frame.DataFrame'>\n",
            "RangeIndex: 367 entries, 0 to 366\n",
            "Data columns (total 12 columns):\n",
            "Loan_ID              367 non-null object\n",
            "Gender               356 non-null object\n",
            "Married              367 non-null object\n",
            "Dependents           357 non-null object\n",
            "Education            367 non-null object\n",
            "Self_Employed        344 non-null object\n",
            "ApplicantIncome      367 non-null int64\n",
            "CoapplicantIncome    367 non-null int64\n",
            "LoanAmount           362 non-null float64\n",
            "Loan_Amount_Term     361 non-null float64\n",
            "Credit_History       338 non-null float64\n",
            "Property_Area        367 non-null object\n",
            "dtypes: float64(3), int64(2), object(7)\n",
            "memory usage: 24.4+ KB\n"
          ],
          "name": "stdout"
        }
      ]
    },
    {
      "cell_type": "code",
      "metadata": {
        "id": "mN_Q-Su0uQdH",
        "outputId": "6b0ad2b2-bc83-4543-a9b0-577b70dabcc1"
      },
      "source": [
        "#stats summary\r\n",
        "df.describe()"
      ],
      "execution_count": null,
      "outputs": [
        {
          "output_type": "execute_result",
          "data": {
            "text/html": [
              "<div>\n",
              "<style scoped>\n",
              "    .dataframe tbody tr th:only-of-type {\n",
              "        vertical-align: middle;\n",
              "    }\n",
              "\n",
              "    .dataframe tbody tr th {\n",
              "        vertical-align: top;\n",
              "    }\n",
              "\n",
              "    .dataframe thead th {\n",
              "        text-align: right;\n",
              "    }\n",
              "</style>\n",
              "<table border=\"1\" class=\"dataframe\">\n",
              "  <thead>\n",
              "    <tr style=\"text-align: right;\">\n",
              "      <th></th>\n",
              "      <th>ApplicantIncome</th>\n",
              "      <th>CoapplicantIncome</th>\n",
              "      <th>LoanAmount</th>\n",
              "      <th>Loan_Amount_Term</th>\n",
              "      <th>Credit_History</th>\n",
              "    </tr>\n",
              "  </thead>\n",
              "  <tbody>\n",
              "    <tr>\n",
              "      <th>count</th>\n",
              "      <td>367.000000</td>\n",
              "      <td>367.000000</td>\n",
              "      <td>362.000000</td>\n",
              "      <td>361.000000</td>\n",
              "      <td>338.000000</td>\n",
              "    </tr>\n",
              "    <tr>\n",
              "      <th>mean</th>\n",
              "      <td>4805.599455</td>\n",
              "      <td>1569.577657</td>\n",
              "      <td>136.132597</td>\n",
              "      <td>342.537396</td>\n",
              "      <td>0.825444</td>\n",
              "    </tr>\n",
              "    <tr>\n",
              "      <th>std</th>\n",
              "      <td>4910.685399</td>\n",
              "      <td>2334.232099</td>\n",
              "      <td>61.366652</td>\n",
              "      <td>65.156643</td>\n",
              "      <td>0.380150</td>\n",
              "    </tr>\n",
              "    <tr>\n",
              "      <th>min</th>\n",
              "      <td>0.000000</td>\n",
              "      <td>0.000000</td>\n",
              "      <td>28.000000</td>\n",
              "      <td>6.000000</td>\n",
              "      <td>0.000000</td>\n",
              "    </tr>\n",
              "    <tr>\n",
              "      <th>25%</th>\n",
              "      <td>2864.000000</td>\n",
              "      <td>0.000000</td>\n",
              "      <td>100.250000</td>\n",
              "      <td>360.000000</td>\n",
              "      <td>1.000000</td>\n",
              "    </tr>\n",
              "    <tr>\n",
              "      <th>50%</th>\n",
              "      <td>3786.000000</td>\n",
              "      <td>1025.000000</td>\n",
              "      <td>125.000000</td>\n",
              "      <td>360.000000</td>\n",
              "      <td>1.000000</td>\n",
              "    </tr>\n",
              "    <tr>\n",
              "      <th>75%</th>\n",
              "      <td>5060.000000</td>\n",
              "      <td>2430.500000</td>\n",
              "      <td>158.000000</td>\n",
              "      <td>360.000000</td>\n",
              "      <td>1.000000</td>\n",
              "    </tr>\n",
              "    <tr>\n",
              "      <th>max</th>\n",
              "      <td>72529.000000</td>\n",
              "      <td>24000.000000</td>\n",
              "      <td>550.000000</td>\n",
              "      <td>480.000000</td>\n",
              "      <td>1.000000</td>\n",
              "    </tr>\n",
              "  </tbody>\n",
              "</table>\n",
              "</div>"
            ],
            "text/plain": [
              "       ApplicantIncome  CoapplicantIncome  LoanAmount  Loan_Amount_Term  \\\n",
              "count       367.000000         367.000000  362.000000        361.000000   \n",
              "mean       4805.599455        1569.577657  136.132597        342.537396   \n",
              "std        4910.685399        2334.232099   61.366652         65.156643   \n",
              "min           0.000000           0.000000   28.000000          6.000000   \n",
              "25%        2864.000000           0.000000  100.250000        360.000000   \n",
              "50%        3786.000000        1025.000000  125.000000        360.000000   \n",
              "75%        5060.000000        2430.500000  158.000000        360.000000   \n",
              "max       72529.000000       24000.000000  550.000000        480.000000   \n",
              "\n",
              "       Credit_History  \n",
              "count      338.000000  \n",
              "mean         0.825444  \n",
              "std          0.380150  \n",
              "min          0.000000  \n",
              "25%          1.000000  \n",
              "50%          1.000000  \n",
              "75%          1.000000  \n",
              "max          1.000000  "
            ]
          },
          "metadata": {
            "tags": []
          },
          "execution_count": 5
        }
      ]
    },
    {
      "cell_type": "code",
      "metadata": {
        "id": "p_vnEteQuQdJ",
        "outputId": "0860cbab-9ba2-483e-869f-7400b6a617de"
      },
      "source": [
        "#Data size\r\n",
        "df.shape"
      ],
      "execution_count": null,
      "outputs": [
        {
          "output_type": "execute_result",
          "data": {
            "text/plain": [
              "(367, 12)"
            ]
          },
          "metadata": {
            "tags": []
          },
          "execution_count": 6
        }
      ]
    },
    {
      "cell_type": "code",
      "metadata": {
        "id": "SQnFdlxGuQdN",
        "outputId": "4cd327ec-48fb-4db6-d2b3-666042742e06"
      },
      "source": [
        "#check for null values\r\n",
        "df.isnull().sum()"
      ],
      "execution_count": null,
      "outputs": [
        {
          "output_type": "execute_result",
          "data": {
            "text/plain": [
              "Loan_ID               0\n",
              "Gender               11\n",
              "Married               0\n",
              "Dependents           10\n",
              "Education             0\n",
              "Self_Employed        23\n",
              "ApplicantIncome       0\n",
              "CoapplicantIncome     0\n",
              "LoanAmount            5\n",
              "Loan_Amount_Term      6\n",
              "Credit_History       29\n",
              "Property_Area         0\n",
              "dtype: int64"
            ]
          },
          "metadata": {
            "tags": []
          },
          "execution_count": 7
        }
      ]
    },
    {
      "cell_type": "code",
      "metadata": {
        "id": "ECK3vEYmuQdO"
      },
      "source": [
        "#Fill Null Values In 'LoanAmount' with column mean \r\n",
        "df['LoanAmount'] = df['LoanAmount'].fillna(df['LoanAmount'].mean())"
      ],
      "execution_count": null,
      "outputs": []
    },
    {
      "cell_type": "code",
      "metadata": {
        "id": "o_oS4EOiuQdP"
      },
      "source": [
        "#Fill Null Values In 'Credit_History' with column mean\r\n",
        "df['Credit_History'] = df['Credit_History'].fillna(df['Credit_History'].median())"
      ],
      "execution_count": null,
      "outputs": []
    },
    {
      "cell_type": "code",
      "metadata": {
        "id": "3uriFOrfuQdR",
        "outputId": "a8c7486a-0b21-4183-daff-5b86b4265ac5"
      },
      "source": [
        "df.isnull().sum()"
      ],
      "execution_count": null,
      "outputs": [
        {
          "output_type": "execute_result",
          "data": {
            "text/plain": [
              "Loan_ID               0\n",
              "Gender               11\n",
              "Married               0\n",
              "Dependents           10\n",
              "Education             0\n",
              "Self_Employed        23\n",
              "ApplicantIncome       0\n",
              "CoapplicantIncome     0\n",
              "LoanAmount            0\n",
              "Loan_Amount_Term      6\n",
              "Credit_History        0\n",
              "Property_Area         0\n",
              "dtype: int64"
            ]
          },
          "metadata": {
            "tags": []
          },
          "execution_count": 10
        }
      ]
    },
    {
      "cell_type": "code",
      "metadata": {
        "id": "RYZuAei3uQdT"
      },
      "source": [
        "#Drop The Rest Of The Null Values\r\n",
        "df.dropna(inplace=True)"
      ],
      "execution_count": null,
      "outputs": []
    },
    {
      "cell_type": "code",
      "metadata": {
        "id": "GPiZzI6SuQdW",
        "outputId": "d22060c3-4567-4ff0-d227-641ad1038e55"
      },
      "source": [
        "#Confirm that there are no null values\r\n",
        "df.isnull().sum()"
      ],
      "execution_count": null,
      "outputs": [
        {
          "output_type": "execute_result",
          "data": {
            "text/plain": [
              "Loan_ID              0\n",
              "Gender               0\n",
              "Married              0\n",
              "Dependents           0\n",
              "Education            0\n",
              "Self_Employed        0\n",
              "ApplicantIncome      0\n",
              "CoapplicantIncome    0\n",
              "LoanAmount           0\n",
              "Loan_Amount_Term     0\n",
              "Credit_History       0\n",
              "Property_Area        0\n",
              "dtype: int64"
            ]
          },
          "metadata": {
            "tags": []
          },
          "execution_count": 12
        }
      ]
    },
    {
      "cell_type": "code",
      "metadata": {
        "id": "2p6L6zhUuQdX",
        "outputId": "95203a97-70d3-43bf-fc7e-9131bb7773d3"
      },
      "source": [
        "#new data size\r\n",
        "df.shape"
      ],
      "execution_count": null,
      "outputs": [
        {
          "output_type": "execute_result",
          "data": {
            "text/plain": [
              "(318, 12)"
            ]
          },
          "metadata": {
            "tags": []
          },
          "execution_count": 13
        }
      ]
    },
    {
      "cell_type": "markdown",
      "metadata": {
        "id": "nHwIz-BVveUy"
      },
      "source": [
        "# <u>Exploratory Data Analysis </u>\r\n",
        "\r\n",
        "<font color =  #fbf703>\r\n",
        "(Dependent Variable = Credit History)\r\n",
        "\r\n",
        "Key (Credit History): 0 = No, 1 = Yes"
      ]
    },
    {
      "cell_type": "markdown",
      "metadata": {
        "id": "hm_nqewQwT0x"
      },
      "source": [
        "1. Gender Vs Credit History"
      ]
    },
    {
      "cell_type": "code",
      "metadata": {
        "id": "Eb0RYIu_uQdY",
        "outputId": "7ee8a439-87db-46f0-bb3e-ab50be9d3605"
      },
      "source": [
        "sns.countplot(df['Gender'], hue=df['Credit_History'])\n",
        "print(pd.crosstab(df['Gender'], df['Credit_History']))"
      ],
      "execution_count": null,
      "outputs": [
        {
          "output_type": "stream",
          "text": [
            "Credit_History  0.0  1.0\n",
            "Gender                  \n",
            "Female           12   53\n",
            "Male             35  218\n"
          ],
          "name": "stdout"
        },
        {
          "output_type": "display_data",
          "data": {
            "image/png": "[encoded data removed]",
            "text/plain": [
              "<Figure size 432x288 with 1 Axes>"
            ]
          },
          "metadata": {
            "tags": [],
            "needs_background": "light"
          }
        }
      ]
    },
    {
      "cell_type": "markdown",
      "metadata": {
        "id": "0Xcs-hxnxKIp"
      },
      "source": [
        "- Conclusion : Less risky to offer loans to Female applicants"
      ]
    },
    {
      "cell_type": "markdown",
      "metadata": {
        "id": "wFKrpR0rxTL-"
      },
      "source": [
        "2. Marital Status Vs Credit History"
      ]
    },
    {
      "cell_type": "code",
      "metadata": {
        "id": "uDQbGHq2uQda",
        "outputId": "c801d60b-521f-40f8-f607-90051f423ddc"
      },
      "source": [
        "sns.countplot(df['Married'], hue=df['Credit_History'])\n",
        "print(pd.crosstab(df['Married'], df['Credit_History']))"
      ],
      "execution_count": null,
      "outputs": [
        {
          "output_type": "stream",
          "text": [
            "Credit_History  0.0  1.0\n",
            "Married                 \n",
            "No               21   93\n",
            "Yes              26  178\n"
          ],
          "name": "stdout"
        },
        {
          "output_type": "display_data",
          "data": {
            "image/png": "[encoded data removed]",
            "text/plain": [
              "<Figure size 432x288 with 1 Axes>"
            ]
          },
          "metadata": {
            "tags": [],
            "needs_background": "light"
          }
        }
      ]
    },
    {
      "cell_type": "markdown",
      "metadata": {
        "id": "8FP80NEKyQ4l"
      },
      "source": [
        "- Conclusion : Less risky to offer loans to single applicants"
      ]
    },
    {
      "cell_type": "markdown",
      "metadata": {
        "id": "00oo7A_yyfCG"
      },
      "source": [
        "3. Education Vs Credit History"
      ]
    },
    {
      "cell_type": "code",
      "metadata": {
        "id": "MA3dS6seuQdc",
        "outputId": "b9d05dd0-708b-4fe9-df3d-7ad6514899fe"
      },
      "source": [
        "sns.countplot(df['Education'], hue=df['Credit_History'])\n",
        "print(pd.crosstab(df['Education'], df['Credit_History']))"
      ],
      "execution_count": null,
      "outputs": [
        {
          "output_type": "stream",
          "text": [
            "Credit_History  0.0  1.0\n",
            "Education               \n",
            "Graduate         34  213\n",
            "Not Graduate     13   58\n"
          ],
          "name": "stdout"
        },
        {
          "output_type": "display_data",
          "data": {
            "image/png": "[encoded data removed]",
            "text/plain": [
              "<Figure size 432x288 with 1 Axes>"
            ]
          },
          "metadata": {
            "tags": [],
            "needs_background": "light"
          }
        }
      ]
    },
    {
      "cell_type": "markdown",
      "metadata": {
        "id": "TckZ1DO2ylim"
      },
      "source": [
        "- Conclusion : Less risky to offer loans to Non-graduate applicants"
      ]
    },
    {
      "cell_type": "markdown",
      "metadata": {
        "id": "OxlznabRyz7j"
      },
      "source": [
        "4. Self Employed Status Vs Credit History"
      ]
    },
    {
      "cell_type": "code",
      "metadata": {
        "id": "hdI8CMU3uQdd",
        "outputId": "08c3a388-ffab-43b6-a2f3-79ac973c5718"
      },
      "source": [
        "sns.countplot(df['Self_Employed'], hue=df['Credit_History'])\n",
        "print(pd.crosstab(df['Self_Employed'], df['Credit_History']))"
      ],
      "execution_count": null,
      "outputs": [
        {
          "output_type": "stream",
          "text": [
            "Credit_History  0.0  1.0\n",
            "Self_Employed           \n",
            "No               45  239\n",
            "Yes               2   32\n"
          ],
          "name": "stdout"
        },
        {
          "output_type": "display_data",
          "data": {
            "image/png": "[encoded data removed]",
            "text/plain": [
              "<Figure size 432x288 with 1 Axes>"
            ]
          },
          "metadata": {
            "tags": [],
            "needs_background": "light"
          }
        }
      ]
    },
    {
      "cell_type": "markdown",
      "metadata": {
        "id": "kbcUsNmxz67r"
      },
      "source": [
        "- Conclusion : Less risky to offer loans to Self Employed applicants"
      ]
    },
    {
      "cell_type": "markdown",
      "metadata": {
        "id": "wwXlbJap1J4h"
      },
      "source": [
        "5. Self Employed Status Vs Education"
      ]
    },
    {
      "cell_type": "code",
      "metadata": {
        "id": "sO_X7PyZuQde",
        "outputId": "d2bbbf65-923e-42c3-eb22-5a2b1fae4136"
      },
      "source": [
        "sns.countplot(df['Self_Employed'], hue=df['Education'])\n",
        "print(pd.crosstab(df['Self_Employed'], df['Education']))"
      ],
      "execution_count": null,
      "outputs": [
        {
          "output_type": "stream",
          "text": [
            "Education      Graduate  Not Graduate\n",
            "Self_Employed                        \n",
            "No                  220            64\n",
            "Yes                  27             7\n"
          ],
          "name": "stdout"
        },
        {
          "output_type": "display_data",
          "data": {
            "image/png": "[encoded data removed]",
            "text/plain": [
              "<Figure size 432x288 with 1 Axes>"
            ]
          },
          "metadata": {
            "tags": [],
            "needs_background": "light"
          }
        }
      ]
    },
    {
      "cell_type": "markdown",
      "metadata": {
        "id": "moDZugQy4kXP"
      },
      "source": [
        "6. Property Area Vs Credit History"
      ]
    },
    {
      "cell_type": "code",
      "metadata": {
        "id": "wtRdPShouQdf",
        "outputId": "beed1229-e31a-4271-d501-c363d0207c93"
      },
      "source": [
        "sns.countplot(df['Property_Area'], hue=df['Credit_History'])\n",
        "print(pd.crosstab(df['Property_Area'], df['Credit_History']))"
      ],
      "execution_count": null,
      "outputs": [
        {
          "output_type": "stream",
          "text": [
            "Credit_History  0.0  1.0\n",
            "Property_Area           \n",
            "Rural            16   81\n",
            "Semiurban        16   83\n",
            "Urban            15  107\n"
          ],
          "name": "stdout"
        },
        {
          "output_type": "display_data",
          "data": {
            "image/png": "[encoded data removed]",
            "text/plain": [
              "<Figure size 432x288 with 1 Axes>"
            ]
          },
          "metadata": {
            "tags": [],
            "needs_background": "light"
          }
        }
      ]
    },
    {
      "cell_type": "markdown",
      "metadata": {
        "id": "RkxF0SHh4vyV"
      },
      "source": [
        "- Conclusion : Applicants from Urban Areas Have Highest and Lowest Credit History"
      ]
    },
    {
      "cell_type": "code",
      "metadata": {
        "id": "q3biisFKuQdg"
      },
      "source": [
        "#Credit History Value Conversion\n",
        "\n",
        "df['Credit_History'].replace('Y', 1.0, inplace=True)\n",
        "df['Credit_History'].replace('N', 0.0, inplace=True)"
      ],
      "execution_count": null,
      "outputs": []
    },
    {
      "cell_type": "code",
      "metadata": {
        "id": "UNnWDnQ2uQdi",
        "outputId": "f6fce77b-d3c3-4459-eb76-0bad741e7ac8"
      },
      "source": [
        "#Credit History Count\r\n",
        "\r\n",
        "df['Credit_History'].value_counts()"
      ],
      "execution_count": null,
      "outputs": [
        {
          "output_type": "execute_result",
          "data": {
            "text/plain": [
              "1.0    271\n",
              "0.0     47\n",
              "Name: Credit_History, dtype: int64"
            ]
          },
          "metadata": {
            "tags": []
          },
          "execution_count": 22
        }
      ]
    },
    {
      "cell_type": "code",
      "metadata": {
        "id": "D_NOo2DkuQdi",
        "outputId": "6cdf1bae-ba35-423f-9532-9560e6f2bce4"
      },
      "source": [
        "#Gender Value Conversion And Count\n",
        "\n",
        "df.Gender=df.Gender.map({'Male':1, 'Female':0})\n",
        "df['Gender'].value_counts()"
      ],
      "execution_count": null,
      "outputs": [
        {
          "output_type": "execute_result",
          "data": {
            "text/plain": [
              "1    253\n",
              "0     65\n",
              "Name: Gender, dtype: int64"
            ]
          },
          "metadata": {
            "tags": []
          },
          "execution_count": 23
        }
      ]
    },
    {
      "cell_type": "code",
      "metadata": {
        "id": "BlyVyOjGuQdj",
        "outputId": "234c8ef6-87cb-4fd1-e4e0-f37d0457c59e"
      },
      "source": [
        "#Marital Status Conversion And Count\n",
        "\n",
        "df.Married=df.Married.map({'Yes':1, 'No':0})\n",
        "df['Married'].value_counts()"
      ],
      "execution_count": null,
      "outputs": [
        {
          "output_type": "execute_result",
          "data": {
            "text/plain": [
              "1    204\n",
              "0    114\n",
              "Name: Married, dtype: int64"
            ]
          },
          "metadata": {
            "tags": []
          },
          "execution_count": 24
        }
      ]
    },
    {
      "cell_type": "code",
      "metadata": {
        "id": "w76--ofOuQdk",
        "outputId": "74c7c628-6b7c-48e3-f904-50c39b1106c7"
      },
      "source": [
        "#Dependants Conversion And Counts\n",
        "\n",
        "df.Dependents=df.Dependents.map({'0':0, '1':1, '2':2, '3+':3})\n",
        "df['Dependents'].value_counts()"
      ],
      "execution_count": null,
      "outputs": [
        {
          "output_type": "execute_result",
          "data": {
            "text/plain": [
              "0    183\n",
              "2     54\n",
              "1     46\n",
              "3     35\n",
              "Name: Dependents, dtype: int64"
            ]
          },
          "metadata": {
            "tags": []
          },
          "execution_count": 25
        }
      ]
    },
    {
      "cell_type": "code",
      "metadata": {
        "id": "T2MPFpaiuQdm",
        "outputId": "df13a938-1914-44b3-9b77-cded88a897ef"
      },
      "source": [
        "#Education Status And Counts\n",
        "\n",
        "df.Education=df.Education.map({'Graduate':1, 'Not Graduate':0})\n",
        "df['Education'].value_counts()"
      ],
      "execution_count": null,
      "outputs": [
        {
          "output_type": "execute_result",
          "data": {
            "text/plain": [
              "1    247\n",
              "0     71\n",
              "Name: Education, dtype: int64"
            ]
          },
          "metadata": {
            "tags": []
          },
          "execution_count": 26
        }
      ]
    },
    {
      "cell_type": "markdown",
      "metadata": {
        "id": "TRaw-fYF7KIx"
      },
      "source": [
        "7. Correlation Matrix"
      ]
    },
    {
      "cell_type": "code",
      "metadata": {
        "id": "oQowb5gDuQdo",
        "outputId": "6f3d9588-7e9a-47a0-c8dd-d7ec07598b35"
      },
      "source": [
        "plt.figure(figsize=(16,5))\n",
        "sns.heatmap(df.corr(),annot=True)\n",
        "plt.title('Correlation Matrix (for Loan Status)')"
      ],
      "execution_count": null,
      "outputs": [
        {
          "output_type": "execute_result",
          "data": {
            "text/plain": [
              "Text(0.5, 1.0, 'Correlation Matrix (for Loan Status)')"
            ]
          },
          "metadata": {
            "tags": []
          },
          "execution_count": 27
        },
        {
          "output_type": "display_data",
          "data": {
            "image/png": "[encoded data removed]",
            "text/plain": [
              "<Figure size 1152x360 with 2 Axes>"
            ]
          },
          "metadata": {
            "tags": [],
            "needs_background": "light"
          }
        }
      ]
    },
    {
      "cell_type": "code",
      "metadata": {
        "id": "cNZ55AQ2uQdo"
      },
      "source": [
        "df.head()"
      ],
      "execution_count": null,
      "outputs": []
    },
    {
      "cell_type": "code",
      "metadata": {
        "id": "pWFnZBwnuQdq"
      },
      "source": [
        "df.info()"
      ],
      "execution_count": null,
      "outputs": []
    },
    {
      "cell_type": "markdown",
      "metadata": {
        "id": "eOXMKtMDuQdr"
      },
      "source": [
        "## <u>Deploying Predictive Models</u>"
      ]
    },
    {
      "cell_type": "markdown",
      "metadata": {
        "id": "tnVq8PHK8PxU"
      },
      "source": [
        "1. Check Data types"
      ]
    },
    {
      "cell_type": "code",
      "metadata": {
        "id": "_SjtAQJsuQdr",
        "outputId": "3b6758e7-1286-4742-b3e5-484ac506d7fa"
      },
      "source": [
        "df.dtypes"
      ],
      "execution_count": null,
      "outputs": [
        {
          "output_type": "execute_result",
          "data": {
            "text/plain": [
              "Loan_ID               object\n",
              "Gender                 int64\n",
              "Married                int64\n",
              "Dependents             int64\n",
              "Education              int64\n",
              "Self_Employed         object\n",
              "ApplicantIncome        int64\n",
              "CoapplicantIncome      int64\n",
              "LoanAmount           float64\n",
              "Loan_Amount_Term     float64\n",
              "Credit_History       float64\n",
              "Property_Area         object\n",
              "dtype: object"
            ]
          },
          "metadata": {
            "tags": []
          },
          "execution_count": 30
        }
      ]
    },
    {
      "cell_type": "markdown",
      "metadata": {
        "id": "EKVOTVyW8VwY"
      },
      "source": [
        "2. Convert Non-Numeric Dtypes to Numeric Dtypes (One-Hot Encoding)"
      ]
    },
    {
      "cell_type": "code",
      "metadata": {
        "id": "YjL5bjB-uQdt"
      },
      "source": [
        "from sklearn.preprocessing import LabelEncoder\n",
        "labelencoder = LabelEncoder()\n",
        "\n",
        "#Loan_ID col\n",
        "df.iloc[:, 0] = labelencoder.fit_transform(df.iloc[:, 0].values)\n",
        "\n",
        "#Self_Employed col\n",
        "df.iloc[:, 5] = labelencoder.fit_transform(df.iloc[:, 5].values)\n",
        "\n",
        "#property_Area col\n",
        "df.iloc[:, 11] = labelencoder.fit_transform(df.iloc[:, 11].values)"
      ],
      "execution_count": null,
      "outputs": []
    },
    {
      "cell_type": "code",
      "metadata": {
        "id": "BSt53eUmuQdu",
        "outputId": "d9cc9ffe-bf39-4c2e-9dd9-b8727ca6bbe8"
      },
      "source": [
        "#confirm that all dtypes are numeric\r\n",
        "\r\n",
        "df.dtypes"
      ],
      "execution_count": null,
      "outputs": [
        {
          "output_type": "execute_result",
          "data": {
            "text/plain": [
              "Loan_ID                int32\n",
              "Gender                 int64\n",
              "Married                int64\n",
              "Dependents             int64\n",
              "Education              int64\n",
              "Self_Employed          int32\n",
              "ApplicantIncome        int64\n",
              "CoapplicantIncome      int64\n",
              "LoanAmount           float64\n",
              "Loan_Amount_Term     float64\n",
              "Credit_History       float64\n",
              "Property_Area          int32\n",
              "dtype: object"
            ]
          },
          "metadata": {
            "tags": []
          },
          "execution_count": 38
        }
      ]
    },
    {
      "cell_type": "markdown",
      "metadata": {
        "id": "xY-vXoEM9JnP"
      },
      "source": [
        "3. Split data into independent (x) and dependent variables (y) and 30% Testing"
      ]
    },
    {
      "cell_type": "code",
      "metadata": {
        "id": "Fc4wJHmPuQdv"
      },
      "source": [
        "x =df.iloc[:, 1:8].values\n",
        "y =df.iloc[:, 0].values"
      ],
      "execution_count": null,
      "outputs": []
    },
    {
      "cell_type": "code",
      "metadata": {
        "id": "9UKq3qXguQdx"
      },
      "source": [
        "#split dataset into 70% train and 30% testing\n",
        "from sklearn.model_selection import train_test_split\n",
        "x_train, x_test, y_train, y_test = train_test_split(x, y, test_size= 0.3, random_state=0)"
      ],
      "execution_count": null,
      "outputs": []
    },
    {
      "cell_type": "markdown",
      "metadata": {
        "id": "OuDJI4GG9kzq"
      },
      "source": [
        "4. Scale Data"
      ]
    },
    {
      "cell_type": "code",
      "metadata": {
        "id": "aS9QgAECuQdy"
      },
      "source": [
        "from sklearn.preprocessing import StandardScaler\n",
        "sc = StandardScaler()\n",
        "x_train = sc.fit_transform(x_train)\n",
        "x_test = sc.fit_transform(x_test)"
      ],
      "execution_count": null,
      "outputs": []
    },
    {
      "cell_type": "markdown",
      "metadata": {
        "id": "2q9_pkYs92JW"
      },
      "source": [
        "5. Apply Models"
      ]
    },
    {
      "cell_type": "code",
      "metadata": {
        "id": "AeLopG7duQdz"
      },
      "source": [
        "def models(x_train, y_train):\n",
        "    #logistic regression\n",
        "    from sklearn.linear_model import LogisticRegression\n",
        "    log = LogisticRegression(random_state=0)\n",
        "    log.fit(x_train, y_train)\n",
        "    \n",
        "    #knn\n",
        "    from sklearn.neighbors import KNeighborsClassifier\n",
        "    knn = KNeighborsClassifier(n_neighbors= 5, metric = 'minkowski', p=2)\n",
        "    knn.fit(x_train, y_train)\n",
        "    \n",
        "    #svc (linear kernel)\n",
        "    from sklearn.svm import SVC\n",
        "    svc_lin = SVC(kernel='linear', random_state=0)\n",
        "    svc_lin.fit(x_train, y_train)\n",
        "    \n",
        "    #svc (RBF kernel)\n",
        "    from sklearn.svm import SVC\n",
        "    svc_rbf = SVC(kernel='rbf', random_state=0)\n",
        "    svc_rbf.fit(x_train, y_train)\n",
        "    \n",
        "    #decision tree\n",
        "    from sklearn.tree import DecisionTreeClassifier\n",
        "    tree = DecisionTreeClassifier(criterion='entropy', random_state=0)\n",
        "    tree.fit(x_train, y_train)\n",
        "    \n",
        "    print('[0]Logistic Regression Accuracy: ', log.score(x_train, y_train))\n",
        "    print('[1]K-Nearest Neighbors Accuracy: ', knn.score(x_train, y_train))\n",
        "    print('[2]SVC(Linear) Accuracy: ', svc_lin.score(x_train, y_train))\n",
        "    print('[3]SVC (RBF) Accuracy: ', svc_rbf.score(x_train, y_train))\n",
        "    print('[4]Decision Tree Accuracy: ', tree.score(x_train, y_train))\n",
        "        \n",
        "    return log, knn, svc_lin, svc_rbf, tree"
      ],
      "execution_count": null,
      "outputs": []
    },
    {
      "cell_type": "markdown",
      "metadata": {
        "id": "GJzhW2jc-W4u"
      },
      "source": [
        "6. Call models and Return Accuracy Score"
      ]
    },
    {
      "cell_type": "code",
      "metadata": {
        "id": "5avQ4LGmuQd5",
        "outputId": "119001ee-b382-4d81-f78c-f421a79c38d5"
      },
      "source": [
        "model = models(x_train, y_train)"
      ],
      "execution_count": null,
      "outputs": [
        {
          "output_type": "stream",
          "text": [
            "[0]Logistic Regression Accuracy:  0.35585585585585583\n",
            "[1]K-Nearest Neighbors Accuracy:  0.21171171171171171\n",
            "[2]SVC(Linear) Accuracy:  0.9954954954954955\n",
            "[3]SVC (RBF) Accuracy:  0.9954954954954955\n",
            "[4]Decision Tree Accuracy:  0.9954954954954955\n"
          ],
          "name": "stdout"
        }
      ]
    },
    {
      "cell_type": "markdown",
      "metadata": {
        "id": "CJ7Hgpwj-iHj"
      },
      "source": [
        "<u>Conclusion: </u>\r\n",
        "- Strongest Model = Decision Tree (99.5%)\r\n",
        "- Weakest Model = K- Nearest Neighbors (21.2%)"
      ]
    }
  ]
}