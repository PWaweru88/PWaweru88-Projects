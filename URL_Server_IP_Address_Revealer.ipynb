{
  "nbformat": 4,
  "nbformat_minor": 0,
  "metadata": {
    "colab": {
      "name": "URL Server IP Address Revealer.ipynb",
      "provenance": [],
      "collapsed_sections": [],
      "include_colab_link": true
    },
    "kernelspec": {
      "name": "python3",
      "display_name": "Python 3"
    }
  },
  "cells": [
    {
      "cell_type": "markdown",
      "metadata": {
        "id": "view-in-github",
        "colab_type": "text"
      },
      "source": [
        "<a href=\"https://colab.research.google.com/github/PWaweru88/PWaweru88-Projects/blob/master/URL_Server_IP_Address_Revealer.ipynb\" target=\"_parent\"><img src=\"https://colab.research.google.com/assets/colab-badge.svg\" alt=\"Open In Colab\"/></a>"
      ]
    },
    {
      "cell_type": "code",
      "metadata": {
        "id": "DBnKaj4zb7PJ"
      },
      "source": [
        "import socket as s"
      ],
      "execution_count": null,
      "outputs": []
    },
    {
      "cell_type": "code",
      "metadata": {
        "colab": {
          "base_uri": "https://localhost:8080/"
        },
        "id": "y8JJ0oqkcM9X",
        "outputId": "5e0a5223-1896-4500-c24a-cca0c92fabb6"
      },
      "source": [
        "host = (input(print('Enter Or Paste URL')))\r\n",
        "\r\n",
        "print('IP address of ' +host+ ' is ' +s.gethostbyname(host))\r\n"
      ],
      "execution_count": null,
      "outputs": [
        {
          "output_type": "stream",
          "text": [
            "Enter Or Paste URL\n",
            "www.google.com\n",
            "IP address of www.google.com is 108.177.126.106\n"
          ],
          "name": "stdout"
        }
      ]
    }
  ]
}